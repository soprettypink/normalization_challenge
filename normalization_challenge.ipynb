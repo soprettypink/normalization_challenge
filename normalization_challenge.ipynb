{
 "cells": [
  {
   "cell_type": "markdown",
   "metadata": {},
   "source": [
    "### Part 2: Take-Home Challenge\n",
    "\n",
    "#### **Objective: Extend and Normalize Further**\n",
    "\n",
    "For your take-home assignment, extend the library schema to add a new concept: **Categories**. Books can belong to multiple categories, and each category can have multiple books (a many-to-many relationship).\n",
    "\n",
    "#### **Tasks:**\n",
    "\n",
    "1. **Design Additional Tables:**\n",
    "   - **Categories Table:**\n",
    "     - `id` (SERIAL PRIMARY KEY)\n",
    "     - `name` (VARCHAR)\n",
    "   - **Book_Categories Table (Join Table):**\n",
    "     - `book_id` (INTEGER, FOREIGN KEY referencing books(id))\n",
    "     - `category_id` (INTEGER, FOREIGN KEY referencing categories(id))\n",
    "     - *(Together, these two columns form the primary key.)*\n",
    "\n",
    "2. **Implement the Schema:**\n",
    "   - Write SQL commands to create the above tables.\n",
    "   - Insert sample data into the `categories` table (e.g., \"Classic\", \"Dystopian\", \"Fiction\") and associate books with categories via the join table.\n",
    "\n",
    "3. **Write and Run Queries:**\n",
    "   - Write a query to list each book along with its associated categories.\n",
    "   - Experiment with different queries to practice JOINs and aggregation.\n",
    "\n",
    "4. **Document Your Normalization Process:**\n",
    "   - In a separate document (e.g., a plain text file named `normalization_notes.txt`), briefly explain:\n",
    "     - The original unnormalized design.\n",
    "     - The steps you took to reach 3NF.\n",
    "     - Why the many-to-many relationship needed its own join table.\n",
    "   - Commit this document to your Git repository along with your SQL scripts.\n",
    "\n",
    "5. **Push:**\n",
    "   - Ensure your final extended schema (including all tables and sample data) is pushed to your GitHub repository."
   ]
  }
 ],
 "metadata": {
  "language_info": {
   "name": "python"
  }
 },
 "nbformat": 4,
 "nbformat_minor": 2
}
